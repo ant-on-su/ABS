{
 "cells": [
  {
   "cell_type": "markdown",
   "metadata": {},
   "source": [
    "# STAGE 1 parse xml\n",
    "need to get element < fulltxt> together with < id> from inside < job>"
   ]
  },
  {
   "cell_type": "code",
   "execution_count": 2,
   "metadata": {},
   "outputs": [],
   "source": [
    "import xml.etree.ElementTree as ET\n",
    "import numpy as np\n",
    "import json"
   ]
  },
  {
   "cell_type": "code",
   "execution_count": 3,
   "metadata": {},
   "outputs": [],
   "source": [
    "file_name = '../data/output.19705741.19706469.xml'\n",
    "file_out = '../data/jobs_frag.json'\n",
    "file_in = '../data/output.19705741.20705740.xml'"
   ]
  },
  {
   "cell_type": "code",
   "execution_count": 4,
   "metadata": {},
   "outputs": [],
   "source": [
    "#extract id:fulltxt tags in json format (as list)\n",
    "\n",
    "import os\n",
    "def get_tags(file):\n",
    "    for event, elem in ET.iterparse(source=file, events=(\"end\",)):\n",
    "        if elem.tag == 'id':\n",
    "            job_id = elem.text\n",
    "        elif elem.tag == 'fulltxt':\n",
    "            job_txt = elem.text\n",
    "            yield job_id,job_txt\n",
    "        elem.clear()\n",
    "        \n",
    "def write_json(file_in, file_out):\n",
    "    with open(file_out, 'w') as outfile:\n",
    "        outfile.write(\"[\")\n",
    "        for ids, txt in get_tags(file_in):\n",
    "            json.dump({ids : txt},outfile)\n",
    "            outfile.write(\", \")\n",
    "        outfile.seek(0,os.SEEK_END)\n",
    "        outfile.seek(outfile.tell() - 2, os.SEEK_SET)\n",
    "        outfile.write(\"\\n] \")\n",
    "    print('job done!')\n",
    "        "
   ]
  },
  {
   "cell_type": "code",
   "execution_count": 5,
   "metadata": {},
   "outputs": [
    {
     "name": "stdout",
     "output_type": "stream",
     "text": [
      "job done!\n"
     ]
    }
   ],
   "source": [
    "write_json(file_in,file_out)"
   ]
  },
  {
   "cell_type": "code",
   "execution_count": 4,
   "metadata": {},
   "outputs": [],
   "source": [
    "with open(file_out, 'r') as f:\n",
    "    jobs = json.load(f)"
   ]
  },
  {
   "cell_type": "code",
   "execution_count": 5,
   "metadata": {},
   "outputs": [
    {
     "data": {
      "text/plain": [
       "722"
      ]
     },
     "execution_count": 5,
     "metadata": {},
     "output_type": "execute_result"
    }
   ],
   "source": [
    "len(jobs)"
   ]
  },
  {
   "cell_type": "code",
   "execution_count": 16,
   "metadata": {},
   "outputs": [
    {
     "data": {
      "text/plain": [
       "722"
      ]
     },
     "execution_count": 16,
     "metadata": {},
     "output_type": "execute_result"
    }
   ],
   "source": [
    "txt = []\n",
    "\n",
    "for job in jobs:\n",
    "    for key, value in job.items():\n",
    "        txt.append(value)\n",
    "\n",
    "len(txt)    \n"
   ]
  },
  {
   "cell_type": "code",
   "execution_count": 19,
   "metadata": {},
   "outputs": [
    {
     "data": {
      "text/plain": [
       "\"  Vacature:Jr. Verkoper Buitendienst\\n\\n  Standplaats:BAARN\\n\\n  20 november 2012\\n\\n  Als Jr. verkoper buitendienst heb je de drang om te scoren. Het gaat niet om hele grote opdrachten, dus je moet het leuk vinden om veel bezoeken te doen en kleine offertes getekend te zien worden. Je hebt contact met oud-klanten in Nederland en probeert weer een relatie op te bouwen. Daarnaast draag je ideeën en advies aan om zo de klanten groter te maken.\\n  Het is belangrijk dat je affiniteit hebt met digitaal beeld en kennis van computers en hardware hebt. Klanten zullen jou ook benaderen als ze vragen hebben en dan is het belangrijk dat je uitleg kunt geven of dat je tijdens gesprekken demonstreert wat het product inhoudt. Een grafische achtergrond is een pre maar geen must.\\n  Arbeidsvoorwaarden\\n\\n  2250.00 per maand\\n\\n  Vaardigheden\\n\\n  Je hebt commercieel inzicht en zon 2-3 jaar werkervaring opgedaan in een commerciële buitendienst functie. Daarnaast vindt je het leuk om te handelen en zie je ook waar handel zit. Je bent zelfstandig, gemotiveerd en een doorzetter. Je laat je niet snel uit het veld slaan, maar zet die extra stap.\\n  Voldoe je aan het profiel en heb je interesse, stuur dan je CV en motivatie naar hilversum243@adecco.nl. Voor vragen bel 035-6237929.\\n\\n  Over de werkgever\\n\\n  Voor een bedrijf in Baarn zijn we op zoek naar een Jr. verkoper buitendienst. Je werkt voor een leverancier in de fotofinishing industrie. Een bedrijf dat internationaal al veel klanten heeft, en nu de Nederlandse markt wil gaan bewerken. Heb je interesse stuur dan je CV naar hilversum243@adecco.nl.\\n\\n  Uren per week: fulltime\\n\\n  Contract: vast\\n\\n  Contactgegevens\\n\\n  Adecco Hilversum\\n  (035) 623 79 29\\n  Hilversum243@adecco.nl\\n  Adecco Hilversum\\n  's Gravelandseweg 34\\n  1211BT, Hilversum\\n\\n  Solliciteer nu!\\n\\n  Solliciteer nu!\\n  Adecco Hilversum\\n  Telefoon (035) 623 79 29 | E-mail Hilversum243@adecco.nl\\n  Adresgegevens van Adecco Hilversum\\n  Deze vacature op website van Adecco\\n   \""
      ]
     },
     "execution_count": 19,
     "metadata": {},
     "output_type": "execute_result"
    }
   ],
   "source": [
    "txt[35]"
   ]
  },
  {
   "cell_type": "code",
   "execution_count": 9,
   "metadata": {},
   "outputs": [
    {
     "name": "stderr",
     "output_type": "stream",
     "text": [
      "[nltk_data] Downloading package stopwords to /root/nltk_data...\n",
      "[nltk_data]   Unzipping corpora/stopwords.zip.\n"
     ]
    }
   ],
   "source": [
    "import nltk\n",
    "nltk.download('stopwords')\n",
    "from nltk.corpus import stopwords"
   ]
  },
  {
   "cell_type": "code",
   "execution_count": 34,
   "metadata": {},
   "outputs": [],
   "source": [
    "#converts text of each job to list by lines, with text cleaning\n",
    "\n",
    "def text_prep(text):\n",
    "    stop_words = set(stopwords.words('dutch'))\n",
    "    text = text.casefold()\n",
    "    text = ' '.join([word for word in text.split() if word not in stop_words])\n",
    "    return text\n",
    "\n",
    "def text_to_list(text):\n",
    "    txt_lines = []\n",
    "    [txt_lines.append(line.strip()) for line in text.splitlines() if line.strip()]\n",
    "    text = [text_prep(line) for line in txt_lines]\n",
    "    return text"
   ]
  },
  {
   "cell_type": "code",
   "execution_count": 35,
   "metadata": {},
   "outputs": [
    {
     "data": {
      "text/plain": [
       "['vacature:lead engineer werktuigbouwkunde elektrotechniek (omg. groningen)',\n",
       " 'standplaats:groningen',\n",
       " '20 november 2012',\n",
       " 'lead engineer werktuigbouwkunde lead engineer elektrotechniek bent belangrijkse spil diverse (multidisciplinaire) projecten. functie bestaat uit:',\n",
       " '* technisch advies opdrachtgevers.',\n",
       " '* maken bestekken.',\n",
       " '* maken begrotingen.',\n",
       " '* maken planningen.',\n",
       " '* opstellen elektrotechnische werktuigbouwkundige concepten specificaties.',\n",
       " '* operationeel aansturen projectmedewerkers binnen projecten.',\n",
       " '* verslaglegging correspondentie verzorgen.',\n",
       " 'bovenstaande werkzaamheden vinden plaats tijdens diverse projectfasen. concept, uitvoering bedrijfsstelling onderhoudt tevens contact opdrachtgevers, leveranciers vakspecialisten binnen organisatie. aanbod',\n",
       " 'onze opdrachtgever biedt goed arbeidsvoorwaardenpakket goede mogelijkheden investeren eigen loopbaan persoonlijke groei.',\n",
       " 'spreekt functie bedrijf aan? wij zien reactie graag z.s.m. tegemoet.',\n",
       " 'vaardigheden',\n",
       " 'functie(s) gelden volgende eisen:',\n",
       " '* afgeronde hbo opleiding werktuigbouwkunde elektrotechniek.',\n",
       " '* ruime werkervaring lead engineer (bij voorkeur industriële omgeving).',\n",
       " '* uitstekende beheersing nederlandse taal woord geschrift.',\n",
       " '* kunt goed teamverband werken;',\n",
       " '* bent zeer klantgericht hebt hoog (eigen) verantwoordelijkheidsgevoel.',\n",
       " 'scholing: hbo',\n",
       " 'werkgever',\n",
       " 'onze opdrachtgever groot ingenieurs- adviesbureau; werkzaam sectoren:',\n",
       " '* water',\n",
       " '* energie',\n",
       " '* infrastructuur',\n",
       " 'binnen sectoren zorgen duurzaam haalbaar ontwerp advies.',\n",
       " 'ten tijde projecten staat duurzaamheid verantwoordelijkheid leefomgeving hoog vaandel. gebeurd hanteren (en handhaven) strenge regels procedures, milieu min mogelijk belasten. naast regels procedures, werken nieuwste technieken waardoor tijd, kosten kwaliteit belangrijke haalbare doelstellingen zijn. bedrijf kent open informele cultuur. persoonlijke ontwikkeling kennisdeling zowel bedrijf personeel groot belang.',\n",
       " 'uren per week: 40 uren',\n",
       " 'contract: vast dienstverband',\n",
       " 'contactgegevens',\n",
       " 'siebren bakema',\n",
       " '050-3694360',\n",
       " '5357@startpeople.nl',\n",
       " 'start people techniek groningen',\n",
       " 'westerhaven 13',\n",
       " '9718aw, groningen',\n",
       " 'solliciteer nu!',\n",
       " 'solliciteer nu!',\n",
       " 'siebren bakema',\n",
       " 'telefoon 050-3694360 | e-mail 5357@startpeople.nl',\n",
       " 'adresgegevens start people techniek groningen',\n",
       " 'vacature website start people']"
      ]
     },
     "execution_count": 35,
     "metadata": {},
     "output_type": "execute_result"
    }
   ],
   "source": [
    "text_to_list(txt[70])"
   ]
  },
  {
   "cell_type": "code",
   "execution_count": null,
   "metadata": {},
   "outputs": [],
   "source": []
  }
 ],
 "metadata": {
  "kernelspec": {
   "display_name": "Python 3",
   "language": "python",
   "name": "python3"
  },
  "language_info": {
   "codemirror_mode": {
    "name": "ipython",
    "version": 3
   },
   "file_extension": ".py",
   "mimetype": "text/x-python",
   "name": "python",
   "nbconvert_exporter": "python",
   "pygments_lexer": "ipython3",
   "version": "3.6.8"
  }
 },
 "nbformat": 4,
 "nbformat_minor": 2
}
